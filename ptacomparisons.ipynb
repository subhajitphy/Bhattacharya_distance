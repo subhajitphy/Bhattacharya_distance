{
 "cells": [
  {
   "cell_type": "code",
   "execution_count": 1,
   "id": "a754959c",
   "metadata": {},
   "outputs": [
    {
     "name": "stderr",
     "output_type": "stream",
     "text": [
      "2022-07-04 16:33:18.942211: W tensorflow/stream_executor/platform/default/dso_loader.cc:64] Could not load dynamic library 'libcudart.so.11.0'; dlerror: libcudart.so.11.0: cannot open shared object file: No such file or directory\n",
      "2022-07-04 16:33:18.942228: I tensorflow/stream_executor/cuda/cudart_stub.cc:29] Ignore above cudart dlerror if you do not have a GPU set up on your machine.\n"
     ]
    }
   ],
   "source": [
    "import sys, os\n",
    "sys.path.insert(0,os.path.realpath(os.path.join(os.getcwd(),'../..')))\n",
    "from getdist import plots, MCSamples\n",
    "from getdist.gaussian_mixtures import GaussianND\n",
    "import getdist\n",
    "getdist.chains.print_load_details = False\n",
    "import scipy\n",
    "import matplotlib.pyplot as plt\n",
    "import IPython\n",
    "from IPython.display import Markdown\n",
    "import numpy as np\n",
    "import seaborn as sns\n",
    "# import the tensiometer tools that we need:\n",
    "import tensiometer\n",
    "from tensiometer import utilities\n",
    "from tensiometer import gaussian_tension\n",
    "from tensiometer import mcmc_tension"
   ]
  },
  {
   "cell_type": "markdown",
   "id": "13014bb8",
   "metadata": {},
   "source": [
    " # Loading respective PTA files"
   ]
  },
  {
   "cell_type": "code",
   "execution_count": 2,
   "id": "0c43c263",
   "metadata": {},
   "outputs": [],
   "source": [
    "#All PTA Datasets are available at \n",
    "#https://drive.google.com/drive/folders/1Wy3NcSQBWanafkTBbHFzqPv-3Kg1pjMx?usp=sharing\n",
    "Ae,ge=np.loadtxt('original/epta.csv').transpose()\n",
    "Ap,gp=np.loadtxt('original/ppta.csv').transpose()\n",
    "An,gn=np.loadtxt('original/ng.csv').transpose()\n",
    "Ai,gi=np.loadtxt('original/ipta.csv').transpose()"
   ]
  },
  {
   "cell_type": "code",
   "execution_count": 3,
   "id": "544e61d1",
   "metadata": {},
   "outputs": [],
   "source": [
    "names = ['logA','gamma']\n",
    "names2=['EPTA','PPTA','NG12.5','IPTA']\n",
    "del_names=['delta_logA','delta_gamma']\n",
    "epta=MCSamples(samples=np.array([Ae,ge]).transpose(),label='EPTA',names = names)\n",
    "ppta=MCSamples(samples=np.array([Ap,gp]).transpose(),label='PPTA',names = names)\n",
    "ng=MCSamples(samples=np.array([An,gn]).transpose(),label='NG12.5',names = names)\n",
    "ipta=MCSamples(samples=np.array([Ai,gi]).transpose(),label='IPTA',names = names)\n",
    "\n",
    "epta_arr=[Ae,ge];ppta_arr=[Ap,gp];ng_arr=[An,gn];ipta_arr=[Ai,gi]\n",
    "arr=[epta_arr,ppta_arr,ng_arr,ipta_arr]\n"
   ]
  },
  {
   "cell_type": "code",
   "execution_count": 29,
   "id": "97fbdef7",
   "metadata": {},
   "outputs": [
    {
     "data": {
      "image/png": "[encoded data removed]",
      "text/plain": [
       "<Figure size 288x288 with 3 Axes>"
      ]
     },
     "metadata": {
      "needs_background": "light"
     },
     "output_type": "display_data"
    }
   ],
   "source": [
    "g = plots.get_subplot_plotter()\n",
    "g.triangle_plot([epta,ppta,ng,ipta], filled=True)\n",
    "plt.savefig('PTAcomparison.pdf',dpi=1000)"
   ]
  },
  {
   "cell_type": "markdown",
   "id": "b8171faf",
   "metadata": {},
   "source": [
    "# I am getting errors while loading original chains!"
   ]
  },
  {
   "cell_type": "code",
   "execution_count": 5,
   "id": "d787d0cd",
   "metadata": {},
   "outputs": [
    {
     "ename": "WeightedSampleError",
     "evalue": "Samples were not combined from separate chains",
     "output_type": "error",
     "traceback": [
      "\u001b[0;31m---------------------------------------------------------------------------\u001b[0m",
      "\u001b[0;31mWeightedSampleError\u001b[0m                       Traceback (most recent call last)",
      "\u001b[0;32m/tmp/ipykernel_559060/258249370.py\u001b[0m in \u001b[0;36m<module>\u001b[0;34m\u001b[0m\n\u001b[1;32m      1\u001b[0m \u001b[0mmcmc_tension\u001b[0m\u001b[0;34m.\u001b[0m\u001b[0mn_threads\u001b[0m \u001b[0;34m=\u001b[0m \u001b[0;36m1\u001b[0m\u001b[0;34m\u001b[0m\u001b[0;34m\u001b[0m\u001b[0m\n\u001b[1;32m      2\u001b[0m \u001b[0;31m# create the distribution of the parameter differences:\u001b[0m\u001b[0;34m\u001b[0m\u001b[0;34m\u001b[0m\u001b[0m\n\u001b[0;32m----> 3\u001b[0;31m \u001b[0mdiff_chain\u001b[0m \u001b[0;34m=\u001b[0m \u001b[0mmcmc_tension\u001b[0m\u001b[0;34m.\u001b[0m\u001b[0mparameter_diff_chain\u001b[0m\u001b[0;34m(\u001b[0m \u001b[0mepta\u001b[0m\u001b[0;34m,\u001b[0m \u001b[0mipta\u001b[0m\u001b[0;34m,\u001b[0m \u001b[0mboost\u001b[0m\u001b[0;34m=\u001b[0m\u001b[0;36m1\u001b[0m \u001b[0;34m)\u001b[0m\u001b[0;34m\u001b[0m\u001b[0;34m\u001b[0m\u001b[0m\n\u001b[0m",
      "\u001b[0;32m~/.local/lib/python3.9/site-packages/tensiometer-0.1.1-py3.9.egg/tensiometer/mcmc_tension/param_diff.py\u001b[0m in \u001b[0;36mparameter_diff_chain\u001b[0;34m(chain_1, chain_2, boost)\u001b[0m\n\u001b[1;32m    223\u001b[0m         \u001b[0m_chains_1\u001b[0m \u001b[0;34m=\u001b[0m \u001b[0;34m[\u001b[0m\u001b[0mchain_1\u001b[0m\u001b[0;34m]\u001b[0m\u001b[0;34m\u001b[0m\u001b[0;34m\u001b[0m\u001b[0m\n\u001b[1;32m    224\u001b[0m     \u001b[0;32melse\u001b[0m\u001b[0;34m:\u001b[0m\u001b[0;34m\u001b[0m\u001b[0;34m\u001b[0m\u001b[0m\n\u001b[0;32m--> 225\u001b[0;31m         \u001b[0m_chains_1\u001b[0m \u001b[0;34m=\u001b[0m \u001b[0mchain_1\u001b[0m\u001b[0;34m.\u001b[0m\u001b[0mgetSeparateChains\u001b[0m\u001b[0;34m(\u001b[0m\u001b[0;34m)\u001b[0m\u001b[0;34m\u001b[0m\u001b[0;34m\u001b[0m\u001b[0m\n\u001b[0m\u001b[1;32m    226\u001b[0m     \u001b[0;32mif\u001b[0m \u001b[0;32mnot\u001b[0m \u001b[0mhasattr\u001b[0m\u001b[0;34m(\u001b[0m\u001b[0mchain_2\u001b[0m\u001b[0;34m,\u001b[0m \u001b[0;34m'chain_offsets'\u001b[0m\u001b[0;34m)\u001b[0m\u001b[0;34m:\u001b[0m\u001b[0;34m\u001b[0m\u001b[0;34m\u001b[0m\u001b[0m\n\u001b[1;32m    227\u001b[0m         \u001b[0m_chains_2\u001b[0m \u001b[0;34m=\u001b[0m \u001b[0;34m[\u001b[0m\u001b[0mchain_2\u001b[0m\u001b[0;34m]\u001b[0m\u001b[0;34m\u001b[0m\u001b[0;34m\u001b[0m\u001b[0m\n",
      "\u001b[0;32m~/.local/lib/python3.9/site-packages/GetDist-1.3.4-py3.9.egg/getdist/chains.py\u001b[0m in \u001b[0;36mgetSeparateChains\u001b[0;34m(self)\u001b[0m\n\u001b[1;32m   1466\u001b[0m         \u001b[0mchainlist\u001b[0m \u001b[0;34m=\u001b[0m \u001b[0;34m[\u001b[0m\u001b[0;34m]\u001b[0m\u001b[0;34m\u001b[0m\u001b[0;34m\u001b[0m\u001b[0m\n\u001b[1;32m   1467\u001b[0m         \u001b[0;32mif\u001b[0m \u001b[0mself\u001b[0m\u001b[0;34m.\u001b[0m\u001b[0mchain_offsets\u001b[0m \u001b[0;32mis\u001b[0m \u001b[0;32mNone\u001b[0m\u001b[0;34m:\u001b[0m\u001b[0;34m\u001b[0m\u001b[0;34m\u001b[0m\u001b[0m\n\u001b[0;32m-> 1468\u001b[0;31m             \u001b[0;32mraise\u001b[0m \u001b[0mWeightedSampleError\u001b[0m\u001b[0;34m(\u001b[0m\u001b[0;34m'Samples were not combined from separate chains'\u001b[0m\u001b[0;34m)\u001b[0m\u001b[0;34m\u001b[0m\u001b[0;34m\u001b[0m\u001b[0m\n\u001b[0m\u001b[1;32m   1469\u001b[0m         \u001b[0;32melse\u001b[0m\u001b[0;34m:\u001b[0m\u001b[0;34m\u001b[0m\u001b[0;34m\u001b[0m\u001b[0m\n\u001b[1;32m   1470\u001b[0m             \u001b[0;32mfor\u001b[0m \u001b[0moff1\u001b[0m\u001b[0;34m,\u001b[0m \u001b[0moff2\u001b[0m \u001b[0;32min\u001b[0m \u001b[0mzip\u001b[0m\u001b[0;34m(\u001b[0m\u001b[0mself\u001b[0m\u001b[0;34m.\u001b[0m\u001b[0mchain_offsets\u001b[0m\u001b[0;34m[\u001b[0m\u001b[0;34m:\u001b[0m\u001b[0;34m-\u001b[0m\u001b[0;36m1\u001b[0m\u001b[0;34m]\u001b[0m\u001b[0;34m,\u001b[0m \u001b[0mself\u001b[0m\u001b[0;34m.\u001b[0m\u001b[0mchain_offsets\u001b[0m\u001b[0;34m[\u001b[0m\u001b[0;36m1\u001b[0m\u001b[0;34m:\u001b[0m\u001b[0;34m]\u001b[0m\u001b[0;34m)\u001b[0m\u001b[0;34m:\u001b[0m\u001b[0;34m\u001b[0m\u001b[0;34m\u001b[0m\u001b[0m\n",
      "\u001b[0;31mWeightedSampleError\u001b[0m: Samples were not combined from separate chains"
     ]
    }
   ],
   "source": [
    "mcmc_tension.n_threads = 1\n",
    "# create the distribution of the parameter differences:\n",
    "diff_chain = mcmc_tension.parameter_diff_chain( epta, ipta, boost=1 )"
   ]
  },
  {
   "cell_type": "markdown",
   "id": "c2bfa650",
   "metadata": {},
   "source": [
    "# For getting the distribution function of difference between chains I am assuming Gaussianity"
   ]
  },
  {
   "cell_type": "code",
   "execution_count": 19,
   "id": "a65e7bac",
   "metadata": {},
   "outputs": [],
   "source": [
    "def Diff_chain(A1,A2):\n",
    "    Ae,ge=A1\n",
    "    Ap,gp=A2\n",
    "    mean_1=np.array([np.mean(Ae),np.mean(ge)])\n",
    "    mean_2=np.array([np.mean(Ap),np.mean(gp)])\n",
    "    diff_mean  = mean_1 -mean_2\n",
    "    diff_cov=np.cov([Ae,ge])+np.cov([Ap,gp])\n",
    "    diff_samps = np.random.multivariate_normal( diff_mean, diff_cov,size=int((len(Ae)+len(Ap))/2))\n",
    "    diff_chain = MCSamples( samples = diff_samps,names = del_names)\n",
    "    chi2_probability = scipy.stats.chi2.cdf(np.dot(np.dot( diff_mean, utilities.QR_inverse(diff_cov) ), diff_mean ), 2 )\n",
    "    shift_probability, shift_lower, shift_upper = mcmc_tension.kde_parameter_shift_2D_fft(diff_chain, feedback=0)\n",
    "    return diff_chain, shift_probability, shift_lower, shift_upper"
   ]
  },
  {
   "cell_type": "code",
   "execution_count": 22,
   "id": "83196bbb",
   "metadata": {},
   "outputs": [],
   "source": [
    "A=[[],[],[],[],[],[]]\n",
    "C1=[[],[],[],[],[],[]]\n",
    "count=0\n",
    "for i in range(4):\n",
    "    for j in range(i+1,4):\n",
    "        #print('Compare '+str(names2[i])+' & '+str(names2[j])+':')\n",
    "        chain,val,lv,fv=Diff_chain(arr[i],arr[j])\n",
    "        A[count].append(chain)\n",
    "        \n",
    "        A[count][0].updateSettings({'contours': [0.68, 0.95, val]})\n",
    "        C1[count].append(str(names2[i])+' & '+str(names2[j]))\n",
    "        count+=1\n",
    "\n",
    "B,C=[],[]\n",
    "for i in range(6):\n",
    "    B.append(A[i][0])\n",
    "    C.append(C1[i][0])"
   ]
  },
  {
   "cell_type": "code",
   "execution_count": 33,
   "id": "9ec64738",
   "metadata": {},
   "outputs": [
    {
     "data": {
      "image/png": "[encoded data removed]",
      "text/plain": [
       "<Figure size 432x324 with 1 Axes>"
      ]
     },
     "metadata": {
      "needs_background": "light"
     },
     "output_type": "display_data"
    }
   ],
   "source": [
    "g = plots.get_single_plotter()\n",
    "g.settings.num_plot_contours = 3\n",
    "g.plot_2d(B,'delta_logA','delta_gamma', filled=True);\n",
    "g.add_legend(C, colored_text=True);\n",
    "g.add_x_marker(0)\n",
    "g.add_y_marker(0)\n",
    "plt.savefig('diff.jpg',dpi=1000)"
   ]
  },
  {
   "cell_type": "code",
   "execution_count": 26,
   "id": "98984c0b",
   "metadata": {},
   "outputs": [
    {
     "data": {
      "text/html": [
       "<style type=\"text/css\">\n",
       "</style>\n",
       "<table id=\"T_30b68_\">\n",
       "  <caption>Degree of disagreement in $\\sigma$:</caption>\n",
       "  <thead>\n",
       "    <tr>\n",
       "      <th class=\"blank level0\" >&nbsp;</th>\n",
       "      <th class=\"col_heading level0 col0\" >EPTA</th>\n",
       "      <th class=\"col_heading level0 col1\" >PPTA</th>\n",
       "      <th class=\"col_heading level0 col2\" >NANOGrav</th>\n",
       "      <th class=\"col_heading level0 col3\" >IPTA</th>\n",
       "    </tr>\n",
       "  </thead>\n",
       "  <tbody>\n",
       "    <tr>\n",
       "      <th id=\"T_30b68_level0_row0\" class=\"row_heading level0 row0\" >EPTA</th>\n",
       "      <td id=\"T_30b68_row0_col0\" class=\"data row0 col0\" >-</td>\n",
       "      <td id=\"T_30b68_row0_col1\" class=\"data row0 col1\" >1.177</td>\n",
       "      <td id=\"T_30b68_row0_col2\" class=\"data row0 col2\" >1.829</td>\n",
       "      <td id=\"T_30b68_row0_col3\" class=\"data row0 col3\" >0.217</td>\n",
       "    </tr>\n",
       "    <tr>\n",
       "      <th id=\"T_30b68_level0_row1\" class=\"row_heading level0 row1\" >PPTA</th>\n",
       "      <td id=\"T_30b68_row1_col0\" class=\"data row1 col0\" >-</td>\n",
       "      <td id=\"T_30b68_row1_col1\" class=\"data row1 col1\" >-</td>\n",
       "      <td id=\"T_30b68_row1_col2\" class=\"data row1 col2\" >0.715</td>\n",
       "      <td id=\"T_30b68_row1_col3\" class=\"data row1 col3\" >1.434</td>\n",
       "    </tr>\n",
       "    <tr>\n",
       "      <th id=\"T_30b68_level0_row2\" class=\"row_heading level0 row2\" >NANOGrav</th>\n",
       "      <td id=\"T_30b68_row2_col0\" class=\"data row2 col0\" >-</td>\n",
       "      <td id=\"T_30b68_row2_col1\" class=\"data row2 col1\" >-</td>\n",
       "      <td id=\"T_30b68_row2_col2\" class=\"data row2 col2\" >-</td>\n",
       "      <td id=\"T_30b68_row2_col3\" class=\"data row2 col3\" >2.091</td>\n",
       "    </tr>\n",
       "    <tr>\n",
       "      <th id=\"T_30b68_level0_row3\" class=\"row_heading level0 row3\" >IPTA</th>\n",
       "      <td id=\"T_30b68_row3_col0\" class=\"data row3 col0\" >-</td>\n",
       "      <td id=\"T_30b68_row3_col1\" class=\"data row3 col1\" >-</td>\n",
       "      <td id=\"T_30b68_row3_col2\" class=\"data row3 col2\" >-</td>\n",
       "      <td id=\"T_30b68_row3_col3\" class=\"data row3 col3\" >-</td>\n",
       "    </tr>\n",
       "  </tbody>\n",
       "</table>\n"
      ],
      "text/plain": [
       "<pandas.io.formats.style.Styler at 0x7f9900d8f970>"
      ]
     },
     "execution_count": 26,
     "metadata": {},
     "output_type": "execute_result"
    }
   ],
   "source": [
    "data=np.zeros((4,4),dtype=object)\n",
    "\n",
    "for i in range(4):\n",
    "    for j in range(i+1,4):\n",
    "        \n",
    "        data[i][j]=\"{:.3f}\".format(utilities.from_confidence_to_sigma(Diff_chain(arr[i],arr[j])[1]))\n",
    "        \n",
    "        \n",
    "    for j in range(0,i+1):\n",
    "        data[i][j]='-'\n",
    "import pandas as pd\n",
    "pta=['EPTA','PPTA','NANOGrav','IPTA']\n",
    "pd.DataFrame(data, index=pta, columns=pta).style.set_caption('Degree of disagreement in 'r'$\\sigma$:')"
   ]
  },
  {
   "cell_type": "code",
   "execution_count": 27,
   "id": "b1d429c3",
   "metadata": {},
   "outputs": [
    {
     "data": {
      "text/html": [
       "<style type=\"text/css\">\n",
       "</style>\n",
       "<table id=\"T_3708a_\">\n",
       "  <caption>Degree of disagreement in Probablity</caption>\n",
       "  <thead>\n",
       "    <tr>\n",
       "      <th class=\"blank level0\" >&nbsp;</th>\n",
       "      <th class=\"col_heading level0 col0\" >EPTA</th>\n",
       "      <th class=\"col_heading level0 col1\" >PPTA</th>\n",
       "      <th class=\"col_heading level0 col2\" >NANOGrav</th>\n",
       "      <th class=\"col_heading level0 col3\" >IPTA</th>\n",
       "    </tr>\n",
       "  </thead>\n",
       "  <tbody>\n",
       "    <tr>\n",
       "      <th id=\"T_3708a_level0_row0\" class=\"row_heading level0 row0\" >EPTA</th>\n",
       "      <td id=\"T_3708a_row0_col0\" class=\"data row0 col0\" >-</td>\n",
       "      <td id=\"T_3708a_row0_col1\" class=\"data row0 col1\" >0.762</td>\n",
       "      <td id=\"T_3708a_row0_col2\" class=\"data row0 col2\" >0.932</td>\n",
       "      <td id=\"T_3708a_row0_col3\" class=\"data row0 col3\" >0.178</td>\n",
       "    </tr>\n",
       "    <tr>\n",
       "      <th id=\"T_3708a_level0_row1\" class=\"row_heading level0 row1\" >PPTA</th>\n",
       "      <td id=\"T_3708a_row1_col0\" class=\"data row1 col0\" >-</td>\n",
       "      <td id=\"T_3708a_row1_col1\" class=\"data row1 col1\" >-</td>\n",
       "      <td id=\"T_3708a_row1_col2\" class=\"data row1 col2\" >0.529</td>\n",
       "      <td id=\"T_3708a_row1_col3\" class=\"data row1 col3\" >0.846</td>\n",
       "    </tr>\n",
       "    <tr>\n",
       "      <th id=\"T_3708a_level0_row2\" class=\"row_heading level0 row2\" >NANOGrav</th>\n",
       "      <td id=\"T_3708a_row2_col0\" class=\"data row2 col0\" >-</td>\n",
       "      <td id=\"T_3708a_row2_col1\" class=\"data row2 col1\" >-</td>\n",
       "      <td id=\"T_3708a_row2_col2\" class=\"data row2 col2\" >-</td>\n",
       "      <td id=\"T_3708a_row2_col3\" class=\"data row2 col3\" >0.963</td>\n",
       "    </tr>\n",
       "    <tr>\n",
       "      <th id=\"T_3708a_level0_row3\" class=\"row_heading level0 row3\" >IPTA</th>\n",
       "      <td id=\"T_3708a_row3_col0\" class=\"data row3 col0\" >-</td>\n",
       "      <td id=\"T_3708a_row3_col1\" class=\"data row3 col1\" >-</td>\n",
       "      <td id=\"T_3708a_row3_col2\" class=\"data row3 col2\" >-</td>\n",
       "      <td id=\"T_3708a_row3_col3\" class=\"data row3 col3\" >-</td>\n",
       "    </tr>\n",
       "  </tbody>\n",
       "</table>\n"
      ],
      "text/plain": [
       "<pandas.io.formats.style.Styler at 0x7f9900eb8a00>"
      ]
     },
     "execution_count": 27,
     "metadata": {},
     "output_type": "execute_result"
    }
   ],
   "source": [
    "data=np.zeros((4,4),dtype=object)\n",
    "\n",
    "for i in range(4):\n",
    "    for j in range(i+1,4):\n",
    "        \n",
    "        data[i][j]=\"{:.3f}\".format(Diff_chain(arr[i],arr[j])[1])\n",
    "        \n",
    "        \n",
    "    for j in range(0,i+1):\n",
    "        data[i][j]='-'\n",
    "        \n",
    "import pandas as pd\n",
    "pta=['EPTA','PPTA','NANOGrav','IPTA']\n",
    "pd.DataFrame(data, index=pta, columns=pta).style.set_caption('Degree of disagreement in Probablity')"
   ]
  },
  {
   "cell_type": "code",
   "execution_count": 30,
   "id": "7bb93943",
   "metadata": {},
   "outputs": [
    {
     "data": {
      "text/html": [
       "<style type=\"text/css\">\n",
       "</style>\n",
       "<table id=\"T_5c8c2_\">\n",
       "  <caption>Degree of agreement in $\\sigma$:</caption>\n",
       "  <thead>\n",
       "    <tr>\n",
       "      <th class=\"blank level0\" >&nbsp;</th>\n",
       "      <th class=\"col_heading level0 col0\" >EPTA</th>\n",
       "      <th class=\"col_heading level0 col1\" >PPTA</th>\n",
       "      <th class=\"col_heading level0 col2\" >NANOGrav</th>\n",
       "      <th class=\"col_heading level0 col3\" >IPTA</th>\n",
       "    </tr>\n",
       "  </thead>\n",
       "  <tbody>\n",
       "    <tr>\n",
       "      <th id=\"T_5c8c2_level0_row0\" class=\"row_heading level0 row0\" >EPTA</th>\n",
       "      <td id=\"T_5c8c2_row0_col0\" class=\"data row0 col0\" >-</td>\n",
       "      <td id=\"T_5c8c2_row0_col1\" class=\"data row0 col1\" >0.310</td>\n",
       "      <td id=\"T_5c8c2_row0_col2\" class=\"data row0 col2\" >0.086</td>\n",
       "      <td id=\"T_5c8c2_row0_col3\" class=\"data row0 col3\" >1.401</td>\n",
       "    </tr>\n",
       "    <tr>\n",
       "      <th id=\"T_5c8c2_level0_row1\" class=\"row_heading level0 row1\" >PPTA</th>\n",
       "      <td id=\"T_5c8c2_row1_col0\" class=\"data row1 col0\" >-</td>\n",
       "      <td id=\"T_5c8c2_row1_col1\" class=\"data row1 col1\" >-</td>\n",
       "      <td id=\"T_5c8c2_row1_col2\" class=\"data row1 col2\" >0.631</td>\n",
       "      <td id=\"T_5c8c2_row1_col3\" class=\"data row1 col3\" >0.193</td>\n",
       "    </tr>\n",
       "    <tr>\n",
       "      <th id=\"T_5c8c2_level0_row2\" class=\"row_heading level0 row2\" >NANOGrav</th>\n",
       "      <td id=\"T_5c8c2_row2_col0\" class=\"data row2 col0\" >-</td>\n",
       "      <td id=\"T_5c8c2_row2_col1\" class=\"data row2 col1\" >-</td>\n",
       "      <td id=\"T_5c8c2_row2_col2\" class=\"data row2 col2\" >-</td>\n",
       "      <td id=\"T_5c8c2_row2_col3\" class=\"data row2 col3\" >0.047</td>\n",
       "    </tr>\n",
       "    <tr>\n",
       "      <th id=\"T_5c8c2_level0_row3\" class=\"row_heading level0 row3\" >IPTA</th>\n",
       "      <td id=\"T_5c8c2_row3_col0\" class=\"data row3 col0\" >-</td>\n",
       "      <td id=\"T_5c8c2_row3_col1\" class=\"data row3 col1\" >-</td>\n",
       "      <td id=\"T_5c8c2_row3_col2\" class=\"data row3 col2\" >-</td>\n",
       "      <td id=\"T_5c8c2_row3_col3\" class=\"data row3 col3\" >-</td>\n",
       "    </tr>\n",
       "  </tbody>\n",
       "</table>\n"
      ],
      "text/plain": [
       "<pandas.io.formats.style.Styler at 0x7f9900e23820>"
      ]
     },
     "execution_count": 30,
     "metadata": {},
     "output_type": "execute_result"
    }
   ],
   "source": [
    "data=np.zeros((4,4),dtype=object)\n",
    "\n",
    "for i in range(4):\n",
    "    for j in range(i+1,4):\n",
    "        \n",
    "        data[i][j]=\"{:.3f}\".format(utilities.from_confidence_to_sigma(1-Diff_chain(arr[i],arr[j])[1]))\n",
    "        \n",
    "        \n",
    "    for j in range(0,i+1):\n",
    "        data[i][j]='-'\n",
    "import pandas as pd\n",
    "pta=['EPTA','PPTA','NANOGrav','IPTA']\n",
    "pd.DataFrame(data, index=pta, columns=pta).style.set_caption('Degree of agreement in 'r'$\\sigma$:')"
   ]
  },
  {
   "cell_type": "code",
   "execution_count": 31,
   "id": "d63ee6b9",
   "metadata": {},
   "outputs": [
    {
     "data": {
      "text/html": [
       "<style type=\"text/css\">\n",
       "</style>\n",
       "<table id=\"T_9c44f_\">\n",
       "  <caption>Degree of agreement in Probablity</caption>\n",
       "  <thead>\n",
       "    <tr>\n",
       "      <th class=\"blank level0\" >&nbsp;</th>\n",
       "      <th class=\"col_heading level0 col0\" >EPTA</th>\n",
       "      <th class=\"col_heading level0 col1\" >PPTA</th>\n",
       "      <th class=\"col_heading level0 col2\" >NANOGrav</th>\n",
       "      <th class=\"col_heading level0 col3\" >IPTA</th>\n",
       "    </tr>\n",
       "  </thead>\n",
       "  <tbody>\n",
       "    <tr>\n",
       "      <th id=\"T_9c44f_level0_row0\" class=\"row_heading level0 row0\" >EPTA</th>\n",
       "      <td id=\"T_9c44f_row0_col0\" class=\"data row0 col0\" >-</td>\n",
       "      <td id=\"T_9c44f_row0_col1\" class=\"data row0 col1\" >0.238</td>\n",
       "      <td id=\"T_9c44f_row0_col2\" class=\"data row0 col2\" >0.069</td>\n",
       "      <td id=\"T_9c44f_row0_col3\" class=\"data row0 col3\" >0.833</td>\n",
       "    </tr>\n",
       "    <tr>\n",
       "      <th id=\"T_9c44f_level0_row1\" class=\"row_heading level0 row1\" >PPTA</th>\n",
       "      <td id=\"T_9c44f_row1_col0\" class=\"data row1 col0\" >-</td>\n",
       "      <td id=\"T_9c44f_row1_col1\" class=\"data row1 col1\" >-</td>\n",
       "      <td id=\"T_9c44f_row1_col2\" class=\"data row1 col2\" >0.474</td>\n",
       "      <td id=\"T_9c44f_row1_col3\" class=\"data row1 col3\" >0.154</td>\n",
       "    </tr>\n",
       "    <tr>\n",
       "      <th id=\"T_9c44f_level0_row2\" class=\"row_heading level0 row2\" >NANOGrav</th>\n",
       "      <td id=\"T_9c44f_row2_col0\" class=\"data row2 col0\" >-</td>\n",
       "      <td id=\"T_9c44f_row2_col1\" class=\"data row2 col1\" >-</td>\n",
       "      <td id=\"T_9c44f_row2_col2\" class=\"data row2 col2\" >-</td>\n",
       "      <td id=\"T_9c44f_row2_col3\" class=\"data row2 col3\" >0.037</td>\n",
       "    </tr>\n",
       "    <tr>\n",
       "      <th id=\"T_9c44f_level0_row3\" class=\"row_heading level0 row3\" >IPTA</th>\n",
       "      <td id=\"T_9c44f_row3_col0\" class=\"data row3 col0\" >-</td>\n",
       "      <td id=\"T_9c44f_row3_col1\" class=\"data row3 col1\" >-</td>\n",
       "      <td id=\"T_9c44f_row3_col2\" class=\"data row3 col2\" >-</td>\n",
       "      <td id=\"T_9c44f_row3_col3\" class=\"data row3 col3\" >-</td>\n",
       "    </tr>\n",
       "  </tbody>\n",
       "</table>\n"
      ],
      "text/plain": [
       "<pandas.io.formats.style.Styler at 0x7f9901298c40>"
      ]
     },
     "execution_count": 31,
     "metadata": {},
     "output_type": "execute_result"
    }
   ],
   "source": [
    "data=np.zeros((4,4),dtype=object)\n",
    "\n",
    "for i in range(4):\n",
    "    for j in range(i+1,4):\n",
    "        \n",
    "        data[i][j]=\"{:.3f}\".format(1-Diff_chain(arr[i],arr[j])[1])\n",
    "        \n",
    "        \n",
    "    for j in range(0,i+1):\n",
    "        data[i][j]='-'\n",
    "        \n",
    "import pandas as pd\n",
    "pta=['EPTA','PPTA','NANOGrav','IPTA']\n",
    "pd.DataFrame(data, index=pta, columns=pta).style.set_caption('Degree of agreement in Probablity')"
   ]
  }
 ],
 "metadata": {
  "kernelspec": {
   "display_name": "Python 3",
   "language": "python",
   "name": "python3"
  },
  "language_info": {
   "codemirror_mode": {
    "name": "ipython",
    "version": 3
   },
   "file_extension": ".py",
   "mimetype": "text/x-python",
   "name": "python",
   "nbconvert_exporter": "python",
   "pygments_lexer": "ipython3",
   "version": "3.8.11"
  }
 },
 "nbformat": 4,
 "nbformat_minor": 5
}
