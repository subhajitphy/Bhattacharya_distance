{
  "nbformat": 4,
  "nbformat_minor": 0,
  "metadata": {
    "colab": {
      "provenance": [],
      "authorship_tag": "ABX9TyPEKK1zGbJGaq3bQeJPX4/X",
      "include_colab_link": true
    },
    "kernelspec": {
      "name": "python3",
      "display_name": "Python 3"
    },
    "language_info": {
      "name": "python"
    }
  },
  "cells": [
    {
      "cell_type": "markdown",
      "metadata": {
        "id": "view-in-github",
        "colab_type": "text"
      },
      "source": [
        "<a href=\"https://colab.research.google.com/github/subhajitphy/Bhattacharya_distance/blob/main/ML_peak_freq.ipynb\" target=\"_parent\"><img src=\"https://colab.research.google.com/assets/colab-badge.svg\" alt=\"Open In Colab\"/></a>"
      ]
    },
    {
      "cell_type": "code",
      "execution_count": 1,
      "metadata": {
        "id": "Wc-2OsnycBqT"
      },
      "outputs": [],
      "source": [
        "import torch\n",
        "import torch.nn as nn\n",
        "import torch.optim as optim\n",
        "import numpy as np\n",
        "from torch.utils.data import DataLoader, TensorDataset\n",
        "from sklearn.model_selection import train_test_split\n",
        "from sklearn.preprocessing import StandardScaler"
      ]
    },
    {
      "cell_type": "code",
      "source": [
        "class EfficientNN(nn.Module):\n",
        "    def __init__(self):\n",
        "        super(EfficientNN, self).__init__()\n",
        "        self.model = nn.Sequential(\n",
        "            nn.Linear(2, 40),\n",
        "            nn.BatchNorm1d(40),\n",
        "            nn.ReLU(),\n",
        "            nn.Linear(40, 40),\n",
        "            nn.BatchNorm1d(40),\n",
        "            nn.ReLU(),\n",
        "            nn.Linear(40, 40),\n",
        "            nn.BatchNorm1d(40),\n",
        "            nn.ReLU(),\n",
        "            nn.Linear(40, 40),\n",
        "            nn.BatchNorm1d(40),\n",
        "            nn.ReLU(),\n",
        "            nn.Linear(40, 40),\n",
        "            nn.BatchNorm1d(40),\n",
        "            nn.ReLU(),\n",
        "            nn.Linear(40, 40),\n",
        "            nn.BatchNorm1d(40),\n",
        "            nn.ReLU(),\n",
        "            nn.Linear(40, 1)\n",
        "        )\n",
        "\n",
        "    def forward(self, x):\n",
        "        return self.model(x)"
      ],
      "metadata": {
        "id": "QPXieDgRcDSG"
      },
      "execution_count": 2,
      "outputs": []
    },
    {
      "cell_type": "code",
      "source": [
        "def train_and_predict(input_data=None, verbose=True):\n",
        "    \"\"\"\n",
        "    Trains a neural network with validation and provides a prediction function.\n",
        "\n",
        "    Parameters:\n",
        "    input_data (np.array): Optional 2D array of shape (n_samples, 2) for prediction\n",
        "    verbose (bool): Whether to print training progress\n",
        "\n",
        "    Returns:\n",
        "    tuple: (predict_function,\n",
        "            predictions if input_data provided else None,\n",
        "            dict of validation metrics)\n",
        "    \"\"\"\n",
        "    # Load and prepare data\n",
        "    inp1, inp2, outp = np.load('all_file_nef.pkl', allow_pickle=True)\n",
        "    X = np.vstack([inp1, inp2]).T\n",
        "    y = outp.reshape(-1, 1)\n",
        "\n",
        "    # Train-test split\n",
        "    X_train, X_test, y_train, y_test = train_test_split(X, y, test_size=0.2, random_state=42)\n",
        "\n",
        "    # Normalize data\n",
        "    scaler_X = StandardScaler()\n",
        "    scaler_y = StandardScaler()\n",
        "\n",
        "    X_train = scaler_X.fit_transform(X_train)\n",
        "    X_test = scaler_X.transform(X_test)\n",
        "    y_train = scaler_y.fit_transform(y_train.reshape(-1, 1)).flatten()\n",
        "    y_test = scaler_y.transform(y_test.reshape(-1, 1)).flatten()\n",
        "\n",
        "    # Convert to tensors\n",
        "    device = torch.device(\"cuda\" if torch.cuda.is_available() else \"cpu\")\n",
        "    X_train_tensor = torch.tensor(X_train, dtype=torch.float32).to(device)\n",
        "    y_train_tensor = torch.tensor(y_train, dtype=torch.float32).unsqueeze(1).to(device)\n",
        "    X_test_tensor = torch.tensor(X_test, dtype=torch.float32).to(device)\n",
        "    y_test_tensor = torch.tensor(y_test, dtype=torch.float32).unsqueeze(1).to(device)\n",
        "\n",
        "    # Create DataLoader\n",
        "    train_dataset = TensorDataset(X_train_tensor, y_train_tensor)\n",
        "    train_loader = DataLoader(train_dataset, batch_size=1024, shuffle=True)\n",
        "\n",
        "    # Initialize model\n",
        "    model = EfficientNN().to(device)\n",
        "    criterion = nn.MSELoss()\n",
        "    optimizer = optim.Adam(model.parameters(), lr=0.001, weight_decay=1e-6)\n",
        "    scheduler = optim.lr_scheduler.StepLR(optimizer, step_size=5, gamma=0.5)\n",
        "\n",
        "    # Training with validation\n",
        "    num_epochs = 20\n",
        "    train_losses = []\n",
        "    val_losses = []\n",
        "    best_val_loss = float('inf')\n",
        "    best_model_state = None\n",
        "\n",
        "    for epoch in range(num_epochs):\n",
        "        # Training phase\n",
        "        model.train()\n",
        "        epoch_loss = 0\n",
        "        for batch_X, batch_y in train_loader:\n",
        "            optimizer.zero_grad()\n",
        "            predictions = model(batch_X)\n",
        "            loss = criterion(predictions, batch_y)\n",
        "            loss.backward()\n",
        "            optimizer.step()\n",
        "            epoch_loss += loss.item()\n",
        "\n",
        "        train_loss = epoch_loss / len(train_loader)\n",
        "        train_losses.append(train_loss)\n",
        "\n",
        "        # Validation phase\n",
        "        model.eval()\n",
        "        with torch.no_grad():\n",
        "            val_predictions = model(X_test_tensor)\n",
        "            val_loss = criterion(val_predictions, y_test_tensor).item()\n",
        "            val_losses.append(val_loss)\n",
        "\n",
        "            # Save best model\n",
        "            if val_loss < best_val_loss:\n",
        "                best_val_loss = val_loss\n",
        "                best_model_state = model.state_dict()\n",
        "\n",
        "        if verbose:\n",
        "            print(f\"Epoch {epoch+1}/{num_epochs}, \"\n",
        "                  f\"Train Loss: {train_loss:.6f}, \"\n",
        "                  f\"Val Loss: {val_loss:.6f}\")\n",
        "\n",
        "        scheduler.step()\n",
        "\n",
        "    # Load best model\n",
        "    model.load_state_dict(best_model_state)\n",
        "\n",
        "    # Final validation metrics\n",
        "    model.eval()\n",
        "    with torch.no_grad():\n",
        "        final_predictions = model(X_test_tensor)\n",
        "        mse = criterion(final_predictions, y_test_tensor).item()\n",
        "\n",
        "        # Convert back to original scale for additional metrics\n",
        "        y_pred = scaler_y.inverse_transform(final_predictions.cpu().numpy())\n",
        "        y_true = scaler_y.inverse_transform(y_test_tensor.cpu().numpy())\n",
        "\n",
        "        mae = np.mean(np.abs(y_true - y_pred))\n",
        "        r2 = 1 - (np.sum((y_true - y_pred) ** 2) /\n",
        "                 np.sum((y_true - np.mean(y_true)) ** 2))\n",
        "\n",
        "    validation_metrics = {\n",
        "        'mse': mse,\n",
        "        'mae': mae,\n",
        "        'r2_score': r2,\n",
        "        'train_losses': train_losses,\n",
        "        'val_losses': val_losses\n",
        "    }\n",
        "\n",
        "    # Define prediction function\n",
        "    def predict(new_inputs):\n",
        "        \"\"\"\n",
        "        Predict outputs for new input data\n",
        "\n",
        "        Parameters:\n",
        "        new_inputs (np.array): 2D array of shape (n_samples, 2)\n",
        "\n",
        "        Returns:\n",
        "        np.array: Predicted outputs in original scale\n",
        "        \"\"\"\n",
        "        model.eval()\n",
        "        if len(new_inputs.shape) == 1:\n",
        "            new_inputs = new_inputs.reshape(1, -1)\n",
        "\n",
        "        if new_inputs.shape[1] != 2:\n",
        "            raise ValueError(\"Input must have 2 features\")\n",
        "\n",
        "        inputs_scaled = scaler_X.transform(new_inputs)\n",
        "        inputs_tensor = torch.tensor(inputs_scaled, dtype=torch.float32).to(device)\n",
        "\n",
        "        with torch.no_grad():\n",
        "            pred_scaled = model(inputs_tensor)\n",
        "\n",
        "        pred = scaler_y.inverse_transform(pred_scaled.cpu().numpy())\n",
        "        return pred.flatten()\n",
        "\n",
        "    # Return predictions if input_data provided\n",
        "    if input_data is not None:\n",
        "        predictions = predict(input_data)\n",
        "        return predict, predictions, validation_metrics\n",
        "    return predict, None, validation_metrics"
      ],
      "metadata": {
        "id": "5Yw9VapvcbjZ"
      },
      "execution_count": 3,
      "outputs": []
    },
    {
      "cell_type": "code",
      "source": [
        "# Example usage:\n",
        "if __name__ == \"__main__\":\n",
        "    # Train the model and get prediction function with validation\n",
        "    predict_fn, _, metrics = train_and_predict(verbose=True)\n",
        "\n",
        "    print(\"\\nValidation Metrics:\")\n",
        "    print(f\"MSE: {metrics['mse']:.6f}\")\n",
        "    print(f\"MAE: {metrics['mae']:.6f}\")\n",
        "    print(f\"R2 Score: {metrics['r2_score']:.6f}\")"
      ],
      "metadata": {
        "colab": {
          "base_uri": "https://localhost:8080/"
        },
        "id": "ANENMrHFcedN",
        "outputId": "d8748ca1-7067-40d0-f45d-05a1efc643b5"
      },
      "execution_count": 4,
      "outputs": [
        {
          "output_type": "stream",
          "name": "stdout",
          "text": [
            "Epoch 1/20, Train Loss: 0.009543, Val Loss: 0.000573\n",
            "Epoch 2/20, Train Loss: 0.002317, Val Loss: 0.000930\n",
            "Epoch 3/20, Train Loss: 0.002036, Val Loss: 0.001004\n",
            "Epoch 4/20, Train Loss: 0.001938, Val Loss: 0.000105\n",
            "Epoch 5/20, Train Loss: 0.002074, Val Loss: 0.000438\n",
            "Epoch 6/20, Train Loss: 0.001576, Val Loss: 0.000153\n",
            "Epoch 7/20, Train Loss: 0.001547, Val Loss: 0.000204\n",
            "Epoch 8/20, Train Loss: 0.001531, Val Loss: 0.000114\n",
            "Epoch 9/20, Train Loss: 0.001511, Val Loss: 0.000311\n",
            "Epoch 10/20, Train Loss: 0.001407, Val Loss: 0.000298\n",
            "Epoch 11/20, Train Loss: 0.001222, Val Loss: 0.000350\n",
            "Epoch 12/20, Train Loss: 0.001167, Val Loss: 0.000075\n",
            "Epoch 13/20, Train Loss: 0.001178, Val Loss: 0.000323\n",
            "Epoch 14/20, Train Loss: 0.001068, Val Loss: 0.000131\n",
            "Epoch 15/20, Train Loss: 0.001046, Val Loss: 0.000119\n",
            "Epoch 16/20, Train Loss: 0.000914, Val Loss: 0.000230\n",
            "Epoch 17/20, Train Loss: 0.000946, Val Loss: 0.000082\n",
            "Epoch 18/20, Train Loss: 0.000921, Val Loss: 0.000181\n",
            "Epoch 19/20, Train Loss: 0.000871, Val Loss: 0.000055\n",
            "Epoch 20/20, Train Loss: 0.000812, Val Loss: 0.000232\n",
            "\n",
            "Validation Metrics:\n",
            "MSE: 0.000232\n",
            "MAE: 0.012973\n",
            "R2 Score: 0.999768\n"
          ]
        }
      ]
    },
    {
      "cell_type": "code",
      "source": [
        "predict([-8.5,1.2])"
      ],
      "metadata": {
        "colab": {
          "base_uri": "https://localhost:8080/",
          "height": 144
        },
        "id": "EuW2iV7mco4B",
        "outputId": "bc0e3d2f-b05c-45df-cae2-6881492dc480"
      },
      "execution_count": 5,
      "outputs": [
        {
          "output_type": "error",
          "ename": "NameError",
          "evalue": "name 'predict' is not defined",
          "traceback": [
            "\u001b[0;31m---------------------------------------------------------------------------\u001b[0m",
            "\u001b[0;31mNameError\u001b[0m                                 Traceback (most recent call last)",
            "\u001b[0;32m<ipython-input-5-0363966ea7b3>\u001b[0m in \u001b[0;36m<cell line: 0>\u001b[0;34m()\u001b[0m\n\u001b[0;32m----> 1\u001b[0;31m \u001b[0mpredict\u001b[0m\u001b[0;34m(\u001b[0m\u001b[0;34m[\u001b[0m\u001b[0;34m-\u001b[0m\u001b[0;36m8.5\u001b[0m\u001b[0;34m,\u001b[0m\u001b[0;36m1.2\u001b[0m\u001b[0;34m]\u001b[0m\u001b[0;34m)\u001b[0m\u001b[0;34m\u001b[0m\u001b[0;34m\u001b[0m\u001b[0m\n\u001b[0m",
            "\u001b[0;31mNameError\u001b[0m: name 'predict' is not defined"
          ]
        }
      ]
    },
    {
      "cell_type": "code",
      "source": [],
      "metadata": {
        "id": "uc40Bpmzh46f"
      },
      "execution_count": null,
      "outputs": []
    }
  ]
}